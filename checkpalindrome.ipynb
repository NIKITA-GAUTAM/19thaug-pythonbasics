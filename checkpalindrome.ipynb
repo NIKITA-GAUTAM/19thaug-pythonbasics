s=input("enter string")
if s==s[::-1]:

    print("string palindrome")

else:

    print("string not palindrom")

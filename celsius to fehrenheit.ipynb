celsius=float(input("enter temp in celsious"))
feh=(celsius*9/5)+32
feh=round(feh,2)
print(celsius,"celsius is",feh,"fehrenteit")
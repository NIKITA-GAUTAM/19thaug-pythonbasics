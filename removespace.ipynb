t="      hello"
print(t)
print(t.strip())
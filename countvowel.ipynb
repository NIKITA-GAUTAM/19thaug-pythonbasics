example = "Favtutor article"

vowels = ["a", "e", "i", "o", "u"]

count = 0

# using for-each loop, character is reference to a letter in the string
for character in example:
    if character in vowels:
        count += 1
        


print("Number of vowels in the given string is: ", count)
      
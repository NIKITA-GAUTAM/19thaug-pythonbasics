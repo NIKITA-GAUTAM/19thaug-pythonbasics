a =5 #declare variable 
b =9 
print("value of x",a,"and value of y",b ) 
a,  b=b, a #swap the variable 

print("value of a",a, "and b",b)
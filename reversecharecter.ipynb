a_string="nikita"
reversed_a=a_string[::-1]
print(reversed_a)